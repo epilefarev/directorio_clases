{
 "cells": [
  {
   "cell_type": "markdown",
   "id": "42f6b677",
   "metadata": {},
   "source": [
    "# Introducción a Python y Jupyter Notebook\n",
    "![](https://www.python.org/static/community_logos/python-logo-master-v3-TM.png)\n",
    "\n",
    "**Agenda**\n",
    "- [ ] Introducción a Python y jupyter Notebook\n",
    "- [ ] Tipo de ficheros y lectura\n",
    "- [ ] Generación de visualizaciones\n",
    "- [ ] Dashboards"
   ]
  },
  {
   "cell_type": "markdown",
   "id": "a9c59a6e",
   "metadata": {},
   "source": [
    "## Tipos de datos y asignación de variables"
   ]
  },
  {
   "cell_type": "markdown",
   "id": "b84f310e",
   "metadata": {},
   "source": [
    "### Comentarios, asignación '=', print() y datos int"
   ]
  },
  {
   "cell_type": "code",
   "execution_count": 1,
   "id": "746aec53",
   "metadata": {},
   "outputs": [
    {
     "name": "stdout",
     "output_type": "stream",
     "text": [
      "La variable x toma el valor de  1  el tipo de la variable x es  <class 'int'>\n"
     ]
    }
   ],
   "source": [
    "# Esto es un comentario\n",
    "# la variable x toma el valor del número entero 1\n",
    "x = 1\n",
    "# imprimimos el valor de x\n",
    "print(\"La variable x toma el valor de \",x, \" el tipo de la variable x es \", type(x))"
   ]
  },
  {
   "cell_type": "markdown",
   "id": "dfe9f01b",
   "metadata": {},
   "source": [
    "### Datos float"
   ]
  },
  {
   "cell_type": "code",
   "execution_count": 2,
   "id": "1a1a48d9",
   "metadata": {},
   "outputs": [
    {
     "name": "stdout",
     "output_type": "stream",
     "text": [
      "La variable x toma el valor de  1.0  el tipo de la variable x es  <class 'float'>\n"
     ]
    }
   ],
   "source": [
    "x = 1.0\n",
    "# imprimimos el valor de x\n",
    "print(\"La variable x toma el valor de \",x, \" el tipo de la variable x es \", type(x))"
   ]
  },
  {
   "cell_type": "markdown",
   "id": "553f7210",
   "metadata": {},
   "source": [
    "### Datos str"
   ]
  },
  {
   "cell_type": "code",
   "execution_count": 3,
   "id": "4121942f",
   "metadata": {},
   "outputs": [
    {
     "name": "stdout",
     "output_type": "stream",
     "text": [
      "La variable x toma el valor de  1  el tipo de la variable x es  <class 'str'>\n"
     ]
    }
   ],
   "source": [
    "x = '1'\n",
    "# imprimimos el valor de x\n",
    "print(\"La variable x toma el valor de \",x, \" el tipo de la variable x es \", type(x))"
   ]
  },
  {
   "cell_type": "markdown",
   "id": "0bfb7718",
   "metadata": {},
   "source": [
    "<div class=\"alert alert-block alert-info\"><b>Preguntas:</b> ¿Qué pasó con los valores previos de x? (R: se sobreescriben)</div>\n"
   ]
  },
  {
   "cell_type": "markdown",
   "id": "7976437d",
   "metadata": {},
   "source": [
    "## Operaciones básicas "
   ]
  },
  {
   "cell_type": "markdown",
   "id": "39ab89b4",
   "metadata": {},
   "source": [
    "### Suma int"
   ]
  },
  {
   "cell_type": "code",
   "execution_count": 4,
   "id": "19ce9953",
   "metadata": {},
   "outputs": [
    {
     "name": "stdout",
     "output_type": "stream",
     "text": [
      "x =  1 , y =  2 , x + y = 3\n"
     ]
    }
   ],
   "source": [
    "x = 1\n",
    "y = 2\n",
    "z = x + y\n",
    "print(\"x = \", x, \", y = \", y, \", x + y =\", z)"
   ]
  },
  {
   "cell_type": "markdown",
   "id": "8786c33c",
   "metadata": {},
   "source": [
    "### Suma float"
   ]
  },
  {
   "cell_type": "code",
   "execution_count": 5,
   "id": "dcd75fcc",
   "metadata": {},
   "outputs": [
    {
     "name": "stdout",
     "output_type": "stream",
     "text": [
      "x =  1 , y =  2.0 , x + y = 3.0\n"
     ]
    }
   ],
   "source": [
    "x = 1\n",
    "y = 2.0\n",
    "z = x + y\n",
    "print(\"x = \", x, \", y = \", y, \", x + y =\", z)"
   ]
  },
  {
   "cell_type": "markdown",
   "id": "64410b4c",
   "metadata": {},
   "source": [
    "### Otras operaciones:  +, -, *, /, ** (exponente), % (resto)"
   ]
  },
  {
   "cell_type": "markdown",
   "id": "8418f0ea",
   "metadata": {},
   "source": [
    "<div class=\"alert alert-block alert-info\"><b>Preguntas:</b> ¿Qué sucede si se suman str con otro str? ¿y str con otro tipo de dato numérico?</div>\n"
   ]
  },
  {
   "cell_type": "markdown",
   "id": "fadebd07",
   "metadata": {},
   "source": [
    "### Suma str"
   ]
  },
  {
   "cell_type": "code",
   "execution_count": 6,
   "id": "f1162406",
   "metadata": {},
   "outputs": [
    {
     "name": "stdout",
     "output_type": "stream",
     "text": [
      "Hola Chao\n"
     ]
    }
   ],
   "source": [
    "x = 'Hola'# uso de comillas simple para iniciar str y comentario al finalizar instrucción\n",
    "y = \"Chao\"# uso de comillas dobles para iniciar str\n",
    "z = x+\" \"+y\n",
    "print(z)"
   ]
  },
  {
   "cell_type": "markdown",
   "id": "5ff31051",
   "metadata": {},
   "source": [
    "<div class=\"alert alert-block alert-info\"><b>Preguntas:</b> ¿Puede convertirse un tipo de datos a otro?</div>"
   ]
  },
  {
   "cell_type": "markdown",
   "id": "7c9b880d",
   "metadata": {},
   "source": [
    "### Error suma str e int, conversión str(), int(), float()"
   ]
  },
  {
   "cell_type": "code",
   "execution_count": 7,
   "id": "07098f32",
   "metadata": {},
   "outputs": [],
   "source": [
    "x = '1'# int('1')\n",
    "y = 2 \n",
    "#z = x+y\n",
    "#print(z)# se aprecia que debido al error inicial esta línea no se ejecuta!"
   ]
  },
  {
   "cell_type": "markdown",
   "id": "f338c877",
   "metadata": {},
   "source": [
    "### Caracteres especiales: \\t, \\n, otros"
   ]
  },
  {
   "cell_type": "code",
   "execution_count": 8,
   "id": "ce157c0a",
   "metadata": {
    "collapsed": true
   },
   "outputs": [
    {
     "name": "stdout",
     "output_type": "stream",
     "text": [
      "¡Hola!\n",
      "Mi nombre es:\tFelipe\n",
      "Pueden referirse a mi como: 'El Profesor'\n"
     ]
    }
   ],
   "source": [
    "x = \"¡Hola!\\nMi nombre es:\\tFelipe\\nPueden referirse a mi como: 'El Profesor'\"\n",
    "print(x)"
   ]
  },
  {
   "cell_type": "markdown",
   "id": "df2aeb20",
   "metadata": {},
   "source": [
    "### format()"
   ]
  },
  {
   "cell_type": "code",
   "execution_count": 34,
   "id": "9245888a",
   "metadata": {},
   "outputs": [
    {
     "name": "stdout",
     "output_type": "stream",
     "text": [
      "Hola mi nombre es Felipe y mi edad es 29\n"
     ]
    }
   ],
   "source": [
    "nombre = 'Felipe'\n",
    "edad = 29\n",
    "s = 'Hola mi nombre es {} y mi edad es {}'.format(nombre, edad)\n",
    "print(s)"
   ]
  },
  {
   "cell_type": "markdown",
   "id": "2cc92446",
   "metadata": {},
   "source": [
    "### split()"
   ]
  },
  {
   "cell_type": "code",
   "execution_count": 10,
   "id": "0b28442f",
   "metadata": {},
   "outputs": [
    {
     "name": "stdout",
     "output_type": "stream",
     "text": [
      "['03/05/1994', '12:30']\n"
     ]
    }
   ],
   "source": [
    "fecha_hora = \"03/05/1994 12:30\"\n",
    "fecha_hora_split = fecha_hora.split(\" \")\n",
    "print(fecha_hora_split)"
   ]
  },
  {
   "cell_type": "markdown",
   "id": "3f4e31d5",
   "metadata": {},
   "source": [
    "<div class=\"alert alert-block alert-info\"><b>Adelanto:</b> ¡Más adelante veremos como se tratan las listas!</div>"
   ]
  },
  {
   "cell_type": "markdown",
   "id": "61eb630a",
   "metadata": {},
   "source": [
    "### replace()"
   ]
  },
  {
   "cell_type": "code",
   "execution_count": 11,
   "id": "d755c8ee",
   "metadata": {},
   "outputs": [
    {
     "name": "stdout",
     "output_type": "stream",
     "text": [
      "Pu3dO 35cr181r lO5 v3r5O5 m45 7r15735 3574 nOch3.\n",
      "E5cr181r, pOr 3j3mplO: «L4 nOch3 3574 357r3ll4d4,\n",
      "y 71r174n, 4zul35, lO5 457rO5, 4 lO l3jO5».\n",
      "El v13n7O d3 l4 nOch3 g1r4 3n 3l c13lO y c4n74.\n",
      "Pu3dO 35cr181r lO5 v3r5O5 m45 7r15735 3574 nOch3.\n",
      "YO l4 qu153, y 4 v3c35 3ll4 74m81én m3 qu15O.\n",
      "En l45 nOch35 cOmO é574 l4 7uv3 3n7r3 m15 8r4zO5.\n",
      "L4 835é 74n745 v3c35 84jO 3l c13lO 1nf1n17O.\n",
      "Ell4 m3 qu15O, 4 v3c35 yO 74m81én l4 qu3rí4.\n",
      "CómO nO h483r 4m4dO 5u5 gr4nd35 OjO5 f1jO5.\n"
     ]
    }
   ],
   "source": [
    "texto = \"Puedo escribir los versos más tristes esta noche.\\nEscribir, por ejemplo: «La noche está estrellada,\\ny tiritan, azules, los astros, a lo lejos».\\nEl viento de la noche gira en el cielo y canta.\\nPuedo escribir los versos más tristes esta noche.\\nYo la quise, y a veces ella también me quiso.\\nEn las noches como ésta la tuve entre mis brazos.\\nLa besé tantas veces bajo el cielo infinito.\\nElla me quiso, a veces yo también la quería.\\nCómo no haber amado sus grandes ojos fijos.\"\n",
    "texto = texto.replace('a', '4')\n",
    "texto = texto.replace('á', '4')\n",
    "texto = texto.replace('e', '3')\n",
    "texto = texto.replace('i', '1')\n",
    "texto = texto.replace('o', 'O')\n",
    "texto = texto.replace('b', '8')\n",
    "texto = texto.replace('s', '5')\n",
    "texto = texto.replace('t', '7')\n",
    "print(texto)"
   ]
  },
  {
   "cell_type": "markdown",
   "id": "ebd65a65",
   "metadata": {},
   "source": [
    "<div class=\"alert alert-block alert-warning\"><b>Desafío:</b> Buscar más operaciones con str</div>\n"
   ]
  },
  {
   "cell_type": "markdown",
   "id": "c051ea5f",
   "metadata": {},
   "source": [
    "## Listas"
   ]
  },
  {
   "cell_type": "markdown",
   "id": "9415adab",
   "metadata": {},
   "source": [
    "### Creación de listas y número de elementos"
   ]
  },
  {
   "cell_type": "code",
   "execution_count": 12,
   "id": "d5b383a9",
   "metadata": {},
   "outputs": [
    {
     "name": "stdout",
     "output_type": "stream",
     "text": [
      "Largo de lista vacia 0\n",
      "Largo de lista no vacia 4\n"
     ]
    }
   ],
   "source": [
    "lista_vacia = [] # creación de lista vacia\n",
    "lista_no_vacia = [1,2,3,'cuatro'] # creación de lista con elementos\n",
    "print(\"Largo de lista vacia\",len(lista_vacia))\n",
    "print(\"Largo de lista no vacia\",len(lista_no_vacia))"
   ]
  },
  {
   "cell_type": "markdown",
   "id": "ed54d430",
   "metadata": {},
   "source": [
    "### Agregar elementos a una lista"
   ]
  },
  {
   "cell_type": "code",
   "execution_count": 13,
   "id": "cd39604e",
   "metadata": {},
   "outputs": [
    {
     "name": "stdout",
     "output_type": "stream",
     "text": [
      "Largo de lista vacia despues de agregar elementos 5\n"
     ]
    }
   ],
   "source": [
    "lista_vacia.append(1)\n",
    "lista_vacia.append(\"1\")\n",
    "lista_vacia.append(\"Uno\")\n",
    "lista_vacia.append(1.0)\n",
    "lista_vacia.append(1.00)\n",
    "print(\"Largo de lista vacia despues de agregar elementos\",len(lista_vacia))"
   ]
  },
  {
   "cell_type": "markdown",
   "id": "69f996cd",
   "metadata": {},
   "source": [
    "### Consultar por un elemento en la lista, cambiar valor y función index "
   ]
  },
  {
   "cell_type": "code",
   "execution_count": 14,
   "id": "08515e58",
   "metadata": {},
   "outputs": [
    {
     "name": "stdout",
     "output_type": "stream",
     "text": [
      "2\n",
      "1\n",
      "3\n",
      "3\n",
      "[3, 4]\n",
      "2\n"
     ]
    }
   ],
   "source": [
    "l = [1,2,3,4,5,3]\n",
    "print(l[1])# segundo elemento\n",
    "print(l[0])# primer elemento\n",
    "#print(l[len(l)]) #error elemento fuera de lista\n",
    "print(l[len(l)-1]) #ultimo elemento\n",
    "print(l[-1]) # último elemento\n",
    "print(l[2:4]) # sub conjunto de lista que empieza en posicion 2 (incluida) y termina en posicion 4 (no incluida)\n",
    "print(l.index(3)) # indice donde se encuentra por primera vez elemento 3"
   ]
  },
  {
   "cell_type": "markdown",
   "id": "0b24cf8f",
   "metadata": {},
   "source": [
    "### Función range()"
   ]
  },
  {
   "cell_type": "code",
   "execution_count": 15,
   "id": "4ecabab8",
   "metadata": {},
   "outputs": [
    {
     "name": "stdout",
     "output_type": "stream",
     "text": [
      "range(0, 10)\n",
      "[0, 1, 2, 3, 4, 5, 6, 7, 8, 9]\n",
      "[2, 3, 4, 5, 6, 7, 8, 9]\n",
      "[1, 3, 5, 7, 9]\n"
     ]
    }
   ],
   "source": [
    "l = range(10)\n",
    "print(l)\n",
    "l = list(range(10))\n",
    "print(l)\n",
    "l = list(range(2,10))\n",
    "print(l)\n",
    "l = list(range(1,10,2))\n",
    "print(l)"
   ]
  },
  {
   "cell_type": "markdown",
   "id": "b421715d",
   "metadata": {},
   "source": [
    "### Suma de listas = concatenación"
   ]
  },
  {
   "cell_type": "code",
   "execution_count": 16,
   "id": "fa1dcb2d",
   "metadata": {},
   "outputs": [
    {
     "name": "stdout",
     "output_type": "stream",
     "text": [
      "[1, '1', 'Uno', 1.0, 1.0, 1, 2, 3, 'cuatro']\n"
     ]
    }
   ],
   "source": [
    "lista_concatenada = lista_vacia+lista_no_vacia\n",
    "print(lista_concatenada)"
   ]
  },
  {
   "cell_type": "markdown",
   "id": "a256883a",
   "metadata": {},
   "source": [
    "### set() = Reducción de lista a elementos únicos"
   ]
  },
  {
   "cell_type": "code",
   "execution_count": 17,
   "id": "f92ecac0",
   "metadata": {},
   "outputs": [
    {
     "name": "stdout",
     "output_type": "stream",
     "text": [
      "{'1', 1, 2, 3, 'cuatro', 'Uno'}\n",
      "['1', 1, 2, 3, 'cuatro', 'Uno']\n"
     ]
    }
   ],
   "source": [
    "lista_elementos_unicos = set(lista_concatenada)\n",
    "print(lista_elementos_unicos)\n",
    "lista_elementos_unicos = list(set(lista_concatenada))# trasnformación de salida a lista\n",
    "print(lista_elementos_unicos)\n"
   ]
  },
  {
   "cell_type": "markdown",
   "id": "eaf0a730",
   "metadata": {},
   "source": [
    "### Ordenar lista"
   ]
  },
  {
   "cell_type": "code",
   "execution_count": 18,
   "id": "fc2fd80c",
   "metadata": {},
   "outputs": [
    {
     "name": "stdout",
     "output_type": "stream",
     "text": [
      "[99, 98, 97, 96, 95, 94, 93, 92, 91, 90, 89, 88, 87, 86, 85, 84, 83, 82, 81, 80, 79, 78, 77, 76, 75, 74, 73, 72, 71, 70, 69, 68, 67, 66, 65, 64, 63, 62, 61, 60, 59, 58, 57, 56, 55, 54, 53, 52, 51, 50, 49, 48, 47, 46, 45, 44, 43, 42, 41, 40, 39, 38, 37, 36, 35, 34, 33, 32, 31, 30, 29, 28, 27, 26, 25, 24, 23, 22, 21, 20, 19, 18, 17, 16, 15, 14, 13, 12, 11, 10, 9, 8, 7, 6, 5, 4, 3, 2, 1, 0]\n",
      "Suma  4950\n",
      "Máximo elemento  99\n",
      "Mínimo elemento  0\n"
     ]
    }
   ],
   "source": [
    "# lista_ordenada = lista_concatenada.sort() # error producto de que lista contiene objetos no comparables\n",
    "lista100 = list(range(100))\n",
    "lista100.sort(reverse=True)\n",
    "print(lista100)\n",
    "print(\"Suma \",sum(lista100))\n",
    "print(\"Máximo elemento \",max(lista100))\n",
    "print(\"Mínimo elemento \",min(lista100))\n",
    "# sort solo funciona con listas de elementos de igual tipo\n",
    "# [ for i in ]\n",
    "# largo de lista\n",
    "# llaves y valores diccionarios\n",
    "# mostrar ejemplo de copia de listas, tuplas y diccionarios"
   ]
  },
  {
   "cell_type": "markdown",
   "id": "dfd21c40",
   "metadata": {},
   "source": [
    "# Instrucción For"
   ]
  },
  {
   "cell_type": "code",
   "execution_count": 19,
   "id": "e4a2fb5b",
   "metadata": {},
   "outputs": [
    {
     "name": "stdout",
     "output_type": "stream",
     "text": [
      "Número 0, Número al cuadrado 0, suma acumulada 0\n",
      "Número 1, Número al cuadrado 1, suma acumulada 1\n",
      "Número 2, Número al cuadrado 4, suma acumulada 5\n",
      "Número 3, Número al cuadrado 9, suma acumulada 14\n",
      "Número 4, Número al cuadrado 16, suma acumulada 30\n",
      "Número 5, Número al cuadrado 25, suma acumulada 55\n",
      "Número 6, Número al cuadrado 36, suma acumulada 91\n",
      "Número 7, Número al cuadrado 49, suma acumulada 140\n",
      "Número 8, Número al cuadrado 64, suma acumulada 204\n",
      "Número 9, Número al cuadrado 81, suma acumulada 285\n",
      "Final  285\n"
     ]
    }
   ],
   "source": [
    "suma_acumulada = 0\n",
    "for numero in [0,1,2,3,4,5,6,7,8,9]:# se recorre en orden cada elemento de la lista l\n",
    "    # Inicio de indexación mediante tabulacion (ambiente for)\n",
    "    numero_cuadrado = numero*numero# si bien aca se crea la variable numero_cuadrado, en cada iteración se sobreescribe\n",
    "    suma_acumulada = suma_acumulada + numero_cuadrado# forma abreviada de sumar sobre la misma variable\n",
    "    print(\"Número {}, Número al cuadrado {}, suma acumulada {}\".format(numero, numero_cuadrado, suma_acumulada))\n",
    "    # Fin de indexación mediante tabulacion (ambiente for)\n",
    "print(\"Final \", suma_acumulada)"
   ]
  },
  {
   "cell_type": "code",
   "execution_count": 20,
   "id": "e162351e",
   "metadata": {},
   "outputs": [
    {
     "name": "stdout",
     "output_type": "stream",
     "text": [
      "Final  285\n"
     ]
    }
   ],
   "source": [
    "suma_acumulada = 0\n",
    "for numero in list(range(10)):\n",
    "    numero_cuadrado = numero*numero \n",
    "    suma_acumulada += numero_cuadrado\n",
    "print(\"Final \", suma_acumulada)"
   ]
  },
  {
   "cell_type": "code",
   "execution_count": 21,
   "id": "3bf6ed05",
   "metadata": {},
   "outputs": [
    {
     "name": "stdout",
     "output_type": "stream",
     "text": [
      "Final  285\n"
     ]
    }
   ],
   "source": [
    "lista_numero_cuadrado = [d*d for d in list(range(10))]\n",
    "suma_acumulada = sum(lista_numero_cuadrado)\n",
    "print(\"Final \", suma_acumulada)"
   ]
  },
  {
   "cell_type": "code",
   "execution_count": 22,
   "id": "c55f83bc",
   "metadata": {},
   "outputs": [
    {
     "name": "stdout",
     "output_type": "stream",
     "text": [
      "Final  285\n"
     ]
    }
   ],
   "source": [
    "suma_acumulada = sum([d*d for d in list(range(10))])\n",
    "print(\"Final \", suma_acumulada)"
   ]
  },
  {
   "cell_type": "markdown",
   "id": "a11d6afe",
   "metadata": {},
   "source": [
    "<div class=\"alert alert-block alert-success\"><b>Desafío:</b>Suma de los cuadrados de los primeros 100 números impares</div"
   ]
  },
  {
   "cell_type": "code",
   "execution_count": null,
   "id": "1f388cdd",
   "metadata": {},
   "outputs": [],
   "source": [
    "l = list(range(1,1000000000,2))\n",
    "s = sum([d*d for d in l])\n",
    "print(s)"
   ]
  },
  {
   "cell_type": "code",
   "execution_count": 23,
   "id": "e6da2118",
   "metadata": {},
   "outputs": [],
   "source": [
    "# mostrar logicas simples y el tipo de dato bool\n",
    "# mostrar instruccion for"
   ]
  },
  {
   "cell_type": "code",
   "execution_count": 24,
   "id": "c7a4c230",
   "metadata": {},
   "outputs": [],
   "source": [
    "# objetos datetime"
   ]
  },
  {
   "cell_type": "code",
   "execution_count": 25,
   "id": "4e08cf5e",
   "metadata": {},
   "outputs": [],
   "source": [
    "# tuplas y diccionarios"
   ]
  },
  {
   "cell_type": "code",
   "execution_count": 26,
   "id": "2978262a",
   "metadata": {},
   "outputs": [],
   "source": [
    "# tarea ordenar lista de tuplas\n",
    "# tarea problema de copia de objetos y como resolverlo"
   ]
  },
  {
   "cell_type": "markdown",
   "id": "7db04e52",
   "metadata": {},
   "source": [
    "# Sección de desafíos"
   ]
  },
  {
   "cell_type": "markdown",
   "id": "2293c8c6",
   "metadata": {},
   "source": [
    "<div class=\"alert alert-block alert-success\"><b>Desafío:</b>Construcción de listas y diccionarios para comparar tiempo de construcción y búsqueda de elementos</div>"
   ]
  },
  {
   "cell_type": "code",
   "execution_count": 27,
   "id": "d735d4c7",
   "metadata": {},
   "outputs": [
    {
     "name": "stdout",
     "output_type": "stream",
     "text": [
      "1008 [bytes]\n",
      "9112 [bytes]\n",
      "90112 [bytes]\n",
      "900112 [bytes]\n",
      "9000112 [bytes]\n",
      "Tiempo construcción listas:  0.010137557983398438 [s]\n",
      "Tiempo encontrar elemento:  0.015611886978149414 [s]\n"
     ]
    }
   ],
   "source": [
    "# importación de librerías\n",
    "import time # se utilizará para contar tiempo de ejecución de código\n",
    "import sys # se utilizará para computar peso en memoria de variables creadas\n",
    "\n",
    "inicio = time.time() # inicia conteo de tiempo\n",
    "l100 = list(range(100))\n",
    "print(sys.getsizeof(l100),\"[bytes]\")\n",
    "l1000 = list(range(1000))\n",
    "print(sys.getsizeof(l1000),\"[bytes]\")\n",
    "l10000 = list(range(10000))\n",
    "print(sys.getsizeof(l10000),\"[bytes]\")\n",
    "l100000 = list(range(100000))\n",
    "print(sys.getsizeof(l100000),\"[bytes]\")\n",
    "l1000000 = list(range(1000000))\n",
    "print(sys.getsizeof(l1000000),\"[bytes]\")\n",
    "fin = time.time() # finaliza conteo de tiempo\n",
    "print(\"Tiempo construcción listas: \",fin-inicio, \"[s]\")\n",
    "\n",
    "\n",
    "inicio = time.time()\n",
    "index100 = l100.index(100/2)\n",
    "index1000 = l1000.index(1000/2)\n",
    "index10000 = l10000.index(10000/2)\n",
    "index100000 = l100000.index(100000/2)\n",
    "index1000000 = l1000000.index(1000000/2)\n",
    "fin = time.time()\n",
    "print(\"Tiempo encontrar elemento: \",fin-inicio, \"[s]\")\n"
   ]
  },
  {
   "cell_type": "code",
   "execution_count": 28,
   "id": "9cb1cd4e",
   "metadata": {},
   "outputs": [
    {
     "name": "stdout",
     "output_type": "stream",
     "text": [
      "4704 [bytes]\n",
      "36968 [bytes]\n",
      "295008 [bytes]\n",
      "5242976 [bytes]\n",
      "41943144 [bytes]\n",
      "Tiempo construcción diccionario:  0.06401753425598145 [s]\n",
      "Tiempo encontrar elemento:  0.0 [s]\n"
     ]
    }
   ],
   "source": [
    "import time\n",
    "import sys\n",
    "\n",
    "inicio = time.time()\n",
    "d100 = {d:d for d in range(100)}\n",
    "print(sys.getsizeof(d100),\"[bytes]\")\n",
    "d1000 = {d:d for d in range(1000)}\n",
    "print(sys.getsizeof(d1000),\"[bytes]\")\n",
    "d10000 = {d:d for d in range(10000)}\n",
    "print(sys.getsizeof(d10000),\"[bytes]\")\n",
    "d100000 = {d:d for d in range(100000)}\n",
    "print(sys.getsizeof(d100000),\"[bytes]\")\n",
    "d1000000 = {d:d for d in range(1000000)}\n",
    "print(sys.getsizeof(d1000000),\"[bytes]\")\n",
    "fin = time.time()\n",
    "print(\"Tiempo construcción diccionario: \",fin-inicio, \"[s]\")\n",
    "\n",
    "inicio = time.time()\n",
    "d100.get(100/2)\n",
    "d1000.get(1000/2)\n",
    "d10000.get(10000/2)\n",
    "d100000.get(100000/2)\n",
    "d1000000.get(1000000/2)\n",
    "fin = time.time()\n",
    "print(\"Tiempo encontrar elemento: \",fin-inicio, \"[s]\")\n"
   ]
  },
  {
   "cell_type": "markdown",
   "id": "38d4ef0f",
   "metadata": {},
   "source": [
    "### Pregunta\n",
    "¿Vale la pena gastar mas tiempo en construcción de estructura de datos para ahorrar tiempo en búsqueda?"
   ]
  },
  {
   "cell_type": "markdown",
   "id": "926b60b0",
   "metadata": {},
   "source": [
    "<div class=\"alert alert-block alert-success\"><b>Desafío:</b>Contar ocurrencia de palabras en texto</div"
   ]
  },
  {
   "cell_type": "code",
   "execution_count": 30,
   "id": "3f5e763b",
   "metadata": {},
   "outputs": [
    {
     "name": "stdout",
     "output_type": "stream",
     "text": [
      "Palabra de máxima ocurrencia, <la>, número de veces observada <6>\n",
      "\n",
      "[('la', 6), ('noche', 4), ('los', 3), ('el', 3), ('a', 3), ('escribir', 3), ('y', 3), ('veces', 3), ('cielo', 2), ('yo', 2), ('también', 2), ('puedo', 2), ('en', 2), ('versos', 2), ('esta', 2), ('más', 2), ('ella', 2), ('me', 2), ('quiso', 2), ('tristes', 2), ('viento', 1), ('está', 1), ('quise', 1), ('gira', 1), ('haber', 1), ('lo', 1), ('las', 1), ('como', 1), ('por', 1), ('tuve', 1), ('canta', 1), ('bajo', 1), ('cómo', 1), ('brazos', 1), ('sus', 1), ('lejos', 1), ('ésta', 1), ('entre', 1), ('tiritan', 1), ('grandes', 1), ('astros', 1), ('ojos', 1), ('estrellada', 1), ('tantas', 1), ('quería', 1), ('mis', 1), ('azules', 1), ('ejemplo', 1), ('amado', 1), ('infinito', 1), ('no', 1), ('fijos', 1), ('noches', 1), ('besé', 1), ('de', 1)]\n",
      "\n",
      "('la', 6)\n"
     ]
    }
   ],
   "source": [
    "# Tarea mostrar todas las palabras utilizadas y contar el número de veces que ocurren\n",
    "texto = \"Puedo escribir los versos más tristes esta noche.\\nEscribir, por ejemplo: «La noche está estrellada,\\ny tiritan, azules, los astros, a lo lejos».\\nEl viento de la noche gira en el cielo y canta.\\nPuedo escribir los versos más tristes esta noche.\\nYo la quise, y a veces ella también me quiso.\\nEn las noches como ésta la tuve entre mis brazos.\\nLa besé tantas veces bajo el cielo infinito.\\nElla me quiso, a veces yo también la quería.\\nCómo no haber amado sus grandes ojos fijos.\"\n",
    "texto = texto.lower()# reemplaza mayúsculas por minúsculas\n",
    "# reemplazamos caracteres especiales\n",
    "texto = texto.replace(\"\\n\", \" \")\n",
    "texto = texto.replace(\".\", \"\")\n",
    "texto = texto.replace(\",\", \"\")\n",
    "texto = texto.replace(\":\", \"\")\n",
    "texto = texto.replace(\"«\", \"\")\n",
    "texto = texto.replace(\"»\", \"\")\n",
    "# lista que contiene cada palabra del texto\n",
    "lista_texto = texto.split(\" \")\n",
    "# generamos conjunto unico de palabras\n",
    "lista_unica_palabras = list(set(lista_texto))\n",
    "\n",
    "# variables que contendra palabra de máxima ocurrencia\n",
    "maxima_ocurrencia = 0\n",
    "palabra_maxima_ocurrencia = None\n",
    "# nueva lista que contendra el conteo de cada palabra\n",
    "lista_conteo = []\n",
    "# recorremos cada palabra única\n",
    "for palabra in lista_unica_palabras:\n",
    "    # se cuenta cada palabra única\n",
    "    conteo = lista_texto.count(palabra)\n",
    "    # se agrega tupla (palabra_unica, conteo_palabra_unica)\n",
    "    lista_conteo.append((palabra, conteo))\n",
    "    # criterio de \n",
    "    if conteo >= maxima_ocurrencia:\n",
    "        maxima_ocurrencia = conteo\n",
    "        palabra_maxima_ocurrencia = palabra\n",
    "\n",
    "print(\"Palabra de máxima ocurrencia, <{}>, número de veces observada <{}>\".format(palabra_maxima_ocurrencia, maxima_ocurrencia))\n",
    "# para ordenar lista de tupla de acuerdo a segundo elemento\n",
    "lista_conteo.sort(key = lambda x: x[1], reverse=True)\n",
    "print()\n",
    "print(lista_conteo)\n",
    "print()\n",
    "print(lista_conteo[0])\n"
   ]
  },
  {
   "cell_type": "markdown",
   "id": "0dd9607b",
   "metadata": {},
   "source": [
    "___\n",
    "___"
   ]
  },
  {
   "cell_type": "markdown",
   "id": "574f7e4d",
   "metadata": {},
   "source": [
    "# Sección de tips Jupyter Notebook"
   ]
  },
  {
   "cell_type": "markdown",
   "id": "1e414929",
   "metadata": {},
   "source": [
    "# Header 1\n",
    "## Header 2\n",
    "### Header 3\n",
    "#### Header 4\n",
    "##### Header 5\n",
    "###### Header 6"
   ]
  },
  {
   "cell_type": "markdown",
   "id": "13895e1f",
   "metadata": {},
   "source": [
    "**This is bold text**  "
   ]
  },
  {
   "cell_type": "markdown",
   "id": "205d2109",
   "metadata": {},
   "source": [
    "*This is italic text* "
   ]
  },
  {
   "cell_type": "markdown",
   "id": "e3b82cfa",
   "metadata": {},
   "source": [
    "~~Scratch this~~"
   ]
  },
  {
   "cell_type": "markdown",
   "id": "4228e91a",
   "metadata": {},
   "source": [
    "> some text\n",
    ">> and then some more text\n",
    ">>> and then some more"
   ]
  },
  {
   "cell_type": "markdown",
   "id": "14e1a1cd",
   "metadata": {},
   "source": [
    "### Líneas horizontales\n",
    "---\n",
    "___\n",
    "***"
   ]
  },
  {
   "cell_type": "markdown",
   "id": "cff9ece7",
   "metadata": {},
   "source": [
    "<nav>\n",
    "<a href=css/>folder css</a> |\n",
    "<a href=https://github.com/>Github</a>\n",
    "</nav>"
   ]
  },
  {
   "cell_type": "markdown",
   "id": "90bbfcdf",
   "metadata": {},
   "source": [
    "![](https://www.python.org/static/community_logos/python-logo-master-v3-TM.png)"
   ]
  },
  {
   "cell_type": "markdown",
   "id": "96ed48da",
   "metadata": {},
   "source": [
    "<img src=\"https://www.python.org/static/community_logos/python-logo-master-v3-TM.png\" title=\"Python Logo\"/>"
   ]
  },
  {
   "cell_type": "markdown",
   "id": "a0ad6644",
   "metadata": {},
   "source": [
    "https://en.wikipedia.org"
   ]
  },
  {
   "cell_type": "markdown",
   "id": "5ac2a87e",
   "metadata": {},
   "source": [
    "[click me](https://en.wikipedia.org)"
   ]
  },
  {
   "cell_type": "markdown",
   "id": "fa744d34",
   "metadata": {},
   "source": [
    "[click me](https://en.wikipedia.org \"Wikipedia\")"
   ]
  },
  {
   "cell_type": "markdown",
   "id": "c034b44f",
   "metadata": {},
   "source": [
    "This is <a href=\"https://en.wikipedia.org\" title=\"Wikipedia\">a reference</a>"
   ]
  },
  {
   "cell_type": "markdown",
   "id": "7e0028dc",
   "metadata": {},
   "source": [
    "- [x] Some task\n",
    "- [ ] Some more task"
   ]
  },
  {
   "cell_type": "markdown",
   "id": "4cd0da76",
   "metadata": {},
   "source": [
    "```javascript\n",
    "var s = \"JavaScript syntax highlighting\";\n",
    "alert(s);\n",
    "```\n",
    "```python\n",
    "s = \"Python syntax highlighting\"\n",
    "print s\n",
    "```"
   ]
  },
  {
   "cell_type": "markdown",
   "id": "31d80443",
   "metadata": {},
   "source": [
    "|Header|Header|Header|\n",
    "|------|------|------|\n",
    "|A     |B     |C     |\n",
    "|X     |Y     |Z     |"
   ]
  },
  {
   "cell_type": "markdown",
   "id": "b4b9257a",
   "metadata": {},
   "source": [
    "<span style=\"color:green\">Texto verde</span>"
   ]
  },
  {
   "cell_type": "markdown",
   "id": "ebd2a507",
   "metadata": {},
   "source": [
    "### color = blue|red|green|pink|yellow"
   ]
  },
  {
   "cell_type": "markdown",
   "id": "e4f920eb",
   "metadata": {},
   "source": [
    "<span style=\"font-family:Comic Sans MS\">This is a text</span>"
   ]
  },
  {
   "cell_type": "markdown",
   "id": "60cc7fab",
   "metadata": {},
   "source": [
    "<div class=\"alert alert-block alert-info\"><b>Tip:</b> Use blue boxes (alert-info) for tips and notes.</div>\n",
    "<div class=\"alert alert-block alert-warning\"><b>Example:</b> Use yellow boxes for examples that are not inside code cells, or use for mathematical formulas if needed. Typically also used to display warning messages.</div>\n",
    "<div class=\"alert alert-block alert-success\"><b>Success:</b> This alert box indicates a successful or positive action.</div>\n",
    "<div class=\"alert alert-block alert-danger\"><b>Danger:</b> This alert box indicates a dangerous or potentially negative action.</div>"
   ]
  },
  {
   "cell_type": "markdown",
   "id": "2f37f11d",
   "metadata": {},
   "source": [
    "<code style=\"background:yellow;color:black\">Useful for highlighting to grab the attention of the reader towards certain points.</code>"
   ]
  },
  {
   "cell_type": "markdown",
   "id": "ccb759c7",
   "metadata": {},
   "source": [
    "$\\sqrt{k}$"
   ]
  },
  {
   "cell_type": "code",
   "execution_count": null,
   "id": "174a0e92",
   "metadata": {},
   "outputs": [],
   "source": []
  }
 ],
 "metadata": {
  "kernelspec": {
   "display_name": "Python 3 (ipykernel)",
   "language": "python",
   "name": "python3"
  },
  "language_info": {
   "codemirror_mode": {
    "name": "ipython",
    "version": 3
   },
   "file_extension": ".py",
   "mimetype": "text/x-python",
   "name": "python",
   "nbconvert_exporter": "python",
   "pygments_lexer": "ipython3",
   "version": "3.11.2"
  },
  "varInspector": {
   "cols": {
    "lenName": 16,
    "lenType": 16,
    "lenVar": 40
   },
   "kernels_config": {
    "python": {
     "delete_cmd_postfix": "",
     "delete_cmd_prefix": "del ",
     "library": "var_list.py",
     "varRefreshCmd": "print(var_dic_list())"
    },
    "r": {
     "delete_cmd_postfix": ") ",
     "delete_cmd_prefix": "rm(",
     "library": "var_list.r",
     "varRefreshCmd": "cat(var_dic_list()) "
    }
   },
   "types_to_exclude": [
    "module",
    "function",
    "builtin_function_or_method",
    "instance",
    "_Feature"
   ],
   "window_display": false
  }
 },
 "nbformat": 4,
 "nbformat_minor": 5
}
